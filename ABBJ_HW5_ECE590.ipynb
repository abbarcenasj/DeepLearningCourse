{
 "cells": [
  {
   "cell_type": "markdown",
   "metadata": {},
   "source": [
    "# ECE 590, Fall 2019 \n",
    "## Problem Set 5\n",
    " \n",
    "\n",
    "## Full name: Ana B. Barcenas\n"
   ]
  },
  {
   "cell_type": "code",
   "execution_count": 109,
   "metadata": {},
   "outputs": [],
   "source": [
    "import torch\n",
    "import torchvision.datasets as dsets\n",
    "import torchvision.transforms as transforms\n",
    "import torch.nn.functional as F\n",
    "import torch.nn as nn\n",
    "import numpy as np"
   ]
  },
  {
   "cell_type": "markdown",
   "metadata": {},
   "source": [
    "### Dataset"
   ]
  },
  {
   "cell_type": "code",
   "execution_count": 90,
   "metadata": {},
   "outputs": [
    {
     "data": {
      "image/png": "[encoded data removed]",
      "text/plain": [
       "<Figure size 720x432 with 12 Axes>"
      ]
     },
     "metadata": {},
     "output_type": "display_data"
    }
   ],
   "source": [
    "# Download and prepare the Fashion MNIST data set \n",
    "batch_size = 100\n",
    "transform = transforms.Compose(\n",
    "    [transforms.ToTensor(),\n",
    "     transforms.Normalize((0.1307,), (0.3081,))])\n",
    "\n",
    "train_dataset = dsets.FashionMNIST(root='./data', train=True, transform=transform, download=True)\n",
    "train_loader = torch.utils.data.DataLoader(train_dataset, batch_size=batch_size, shuffle=True, num_workers=0)\n",
    "\n",
    "test_dataset = dsets.FashionMNIST(root='./data', train=False, transform=transform, download=True)\n",
    "test_loader = torch.utils.data.DataLoader(test_dataset, batch_size=batch_size, shuffle=False, num_workers=0)\n",
    "\n",
    "import matplotlib.pyplot as plt\n",
    "\n",
    "labels_map = {0 : 'T-Shirt', 1 : 'Trouser', 2 : 'Pullover', 3 : 'Dress', 4 : 'Coat', 5 : 'Sandal', 6 : 'Shirt',\n",
    "              7 : 'Sneaker', 8 : 'Bag', 9 : 'Ankle Boot'};\n",
    "fig = plt.figure(figsize=(10,6));\n",
    "columns = 4;\n",
    "rows = 3;\n",
    "for i in range(1, columns*rows +1):\n",
    "    img_xy = np.random.randint(len(train_dataset));\n",
    "    img = train_dataset[img_xy][0][0,:,:]\n",
    "    fig.add_subplot(rows, columns, i)\n",
    "    plt.title(labels_map[train_dataset[img_xy][1]])\n",
    "    plt.axis('off')\n",
    "    plt.imshow(img, cmap='gray')\n",
    "plt.show()"
   ]
  },
  {
   "cell_type": "markdown",
   "metadata": {},
   "source": [
    "### CNN model architecture"
   ]
  },
  {
   "cell_type": "code",
   "execution_count": 91,
   "metadata": {},
   "outputs": [],
   "source": [
    "def Flatten(x):\n",
    "    return x.view(x.size()[0], -1)"
   ]
  },
  {
   "cell_type": "code",
   "execution_count": 105,
   "metadata": {},
   "outputs": [],
   "source": [
    "class CNN_abbj(nn.Module):\n",
    "    \n",
    "    # Our batch shape for input x is (1, 28, 28)\n",
    "    \n",
    "    def __init__(self, in_channels, out_channels):\n",
    "        super(CNN_abbj, self).__init__()\n",
    "        self.conv = nn.Conv2d(in_channels=in_channels, out_channels=out_channels, \n",
    "                               kernel_size=5, stride=1, padding=0, \n",
    "                               bias=True)\n",
    "\n",
    "        self.fc   = nn.Linear(in_features=10*12*12, out_features=out_channels)\n",
    "        \n",
    "    def forward(self, x):\n",
    "        x = F.relu(self.conv(x))\n",
    "        x = F.max_pool2d(x, 2)\n",
    "        x = Flatten(x)\n",
    "        x = self.fc(x)\n",
    "        return x"
   ]
  },
  {
   "cell_type": "markdown",
   "metadata": {},
   "source": [
    "### Define train() and test() functions"
   ]
  },
  {
   "cell_type": "code",
   "execution_count": 106,
   "metadata": {},
   "outputs": [],
   "source": [
    "def train(model, train_loader, criterion, optimizer, epoch):\n",
    "    train_loss = 0\n",
    "    model.train()\n",
    "    for batch_idx, (data, target) in enumerate(train_loader):\n",
    "        data, target = data, target\n",
    "        optimizer.zero_grad()\n",
    "        output = model(data)\n",
    "        loss = criterion(output, target)\n",
    "        loss.backward()\n",
    "        optimizer.step()\n",
    "        train_loss += loss.item()\n",
    "        if batch_idx % (len(train_loader)//2) == 0:\n",
    "            print('Train({})[{:.0f}%]: Loss: {:.4f}'.format(\n",
    "                epoch, 100. * batch_idx / len(train_loader), train_loss/(batch_idx+1)))\n",
    "\n",
    "def test(model, test_loader, criterion, epoch):\n",
    "    model.eval()\n",
    "    test_loss = 0\n",
    "    correct = 0\n",
    "    with torch.no_grad():\n",
    "        for data, target in test_loader:\n",
    "            data, target = data, target\n",
    "            output = model(data)\n",
    "            test_loss += criterion(output, target).item() # sum up batch loss\n",
    "            pred = output.argmax(dim=1, keepdim=True) # get the index of the max log-probability\n",
    "            correct += pred.eq(target.view_as(pred)).sum().item()\n",
    "\n",
    "    test_loss = (test_loss*batch_size)/len(test_loader.dataset)\n",
    "    print('Test({}): Loss: {:.4f}, Accuracy: {:.4f}%'.format(\n",
    "        epoch, test_loss, 100. * correct / len(test_loader.dataset)))"
   ]
  },
  {
   "cell_type": "markdown",
   "metadata": {},
   "source": [
    "### Define optimizer ADAM and scheduler()"
   ]
  },
  {
   "cell_type": "code",
   "execution_count": 107,
   "metadata": {},
   "outputs": [],
   "source": [
    "import torch.optim as optim\n",
    "\n",
    "def make_optimizer(model, **kwargs):\n",
    "    optimizer_ADAM = optim.Adam(model.parameters(),lr=kwargs['lr'])\n",
    "    return optimizer_ADAM\n",
    "\n",
    "def make_scheduler(scheduler_name, optimizer, **kwargs):\n",
    "    if scheduler_name=='MultiStepLR':\n",
    "        scheduler = optim.lr_scheduler.MultiStepLR(optimizer,milestones=kwargs['milestones'],gamma=kwargs['factor'])\n",
    "    else:\n",
    "        raise ValueError('Not valid scheduler name')\n",
    "    return scheduler"
   ]
  },
  {
   "cell_type": "markdown",
   "metadata": {},
   "source": [
    "### Define Main()"
   ]
  },
  {
   "cell_type": "code",
   "execution_count": 108,
   "metadata": {
    "scrolled": true
   },
   "outputs": [
    {
     "name": "stdout",
     "output_type": "stream",
     "text": [
      "Train(1)[0%]: Loss: 2.4180\n",
      "Train(1)[50%]: Loss: 0.8599\n",
      "Test(1): Loss: 0.5154, Accuracy: 81.9000%\n",
      "Optimizer Learning rate: 0.0500\n",
      "Train(2)[0%]: Loss: 0.4439\n",
      "Train(2)[50%]: Loss: 0.4769\n",
      "Test(2): Loss: 0.5459, Accuracy: 81.8400%\n",
      "Optimizer Learning rate: 0.0500\n",
      "Train(3)[0%]: Loss: 0.4733\n",
      "Train(3)[50%]: Loss: 0.4986\n",
      "Test(3): Loss: 0.6843, Accuracy: 76.7500%\n",
      "Optimizer Learning rate: 0.0500\n",
      "Train(4)[0%]: Loss: 0.7395\n",
      "Train(4)[50%]: Loss: 0.5748\n",
      "Test(4): Loss: 0.5650, Accuracy: 79.2400%\n",
      "Optimizer Learning rate: 0.0500\n",
      "Train(5)[0%]: Loss: 0.3828\n",
      "Train(5)[50%]: Loss: 1.3634\n",
      "Test(5): Loss: 0.6618, Accuracy: 77.7000%\n",
      "Optimizer Learning rate: 0.0050\n",
      "Train(6)[0%]: Loss: 0.5027\n",
      "Train(6)[50%]: Loss: 0.5440\n",
      "Test(6): Loss: 0.5853, Accuracy: 79.5500%\n",
      "Optimizer Learning rate: 0.0050\n",
      "Train(7)[0%]: Loss: 0.5613\n",
      "Train(7)[50%]: Loss: 0.5015\n",
      "Test(7): Loss: 0.5668, Accuracy: 80.2500%\n",
      "Optimizer Learning rate: 0.0050\n",
      "Train(8)[0%]: Loss: 0.6422\n",
      "Train(8)[50%]: Loss: 0.4990\n",
      "Test(8): Loss: 0.5500, Accuracy: 81.1600%\n",
      "Optimizer Learning rate: 0.0050\n",
      "Train(9)[0%]: Loss: 0.3764\n",
      "Train(9)[50%]: Loss: 0.4805\n",
      "Test(9): Loss: 0.5400, Accuracy: 80.7700%\n",
      "Optimizer Learning rate: 0.0050\n",
      "Train(10)[0%]: Loss: 0.5309\n",
      "Train(10)[50%]: Loss: 0.4606\n",
      "Test(10): Loss: 0.5294, Accuracy: 81.2300%\n",
      "Optimizer Learning rate: 0.0050\n"
     ]
    }
   ],
   "source": [
    "seed = 1\n",
    "scheduler_name = 'MultiStepLR'\n",
    "num_epochs = 10\n",
    "lr = 0.05\n",
    "torch.manual_seed(1)\n",
    "in_channels = 1\n",
    "out_channels = 10\n",
    "model = CNN_abbj(in_channels, out_channels)\n",
    "criterion = nn.CrossEntropyLoss()\n",
    "optimizer = make_optimizer(model, lr=lr, momentum=0.9, alpha=0.999, eps=10**(-8))\n",
    "# same result when using: betas=(0.9,0.999) instead.\n",
    "scheduler = make_scheduler(scheduler_name, optimizer, milestones=[5], factor=0.1)\n",
    "for epoch in range(1, num_epochs + 1):\n",
    "    train(model, train_loader, criterion, optimizer, epoch)\n",
    "    test(model, test_loader, criterion, epoch)\n",
    "    scheduler.step()\n",
    "    print('Optimizer Learning rate: {0:.4f}'.format(optimizer.param_groups[0]['lr']))"
   ]
  },
  {
   "cell_type": "markdown",
   "metadata": {},
   "source": [
    "# :)"
   ]
  }
 ],
 "metadata": {
  "kernelspec": {
   "display_name": "Python 3",
   "language": "python",
   "name": "python3"
  },
  "language_info": {
   "codemirror_mode": {
    "name": "ipython",
    "version": 3
   },
   "file_extension": ".py",
   "mimetype": "text/x-python",
   "name": "python",
   "nbconvert_exporter": "python",
   "pygments_lexer": "ipython3",
   "version": "3.6.4"
  }
 },
 "nbformat": 4,
 "nbformat_minor": 2
}
