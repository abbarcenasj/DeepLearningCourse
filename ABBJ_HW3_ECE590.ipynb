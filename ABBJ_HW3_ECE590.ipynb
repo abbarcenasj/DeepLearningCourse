{
 "cells": [
  {
   "cell_type": "markdown",
   "metadata": {},
   "source": [
    "# ECE 590, Fall 2019 \n",
    "## Problem Set 4 \n",
    "\n",
    "## Full name: Ana B. Barcenas J.\n"
   ]
  },
  {
   "cell_type": "code",
   "execution_count": 67,
   "metadata": {},
   "outputs": [],
   "source": [
    "import warnings\n",
    "warnings.simplefilter('ignore')"
   ]
  },
  {
   "cell_type": "markdown",
   "metadata": {},
   "source": [
    "### Problem 2: Step-size in Full Gradient Descent"
   ]
  },
  {
   "cell_type": "code",
   "execution_count": 1,
   "metadata": {},
   "outputs": [],
   "source": [
    "import numpy as np"
   ]
  },
  {
   "cell_type": "code",
   "execution_count": 16,
   "metadata": {},
   "outputs": [
    {
     "data": {
      "text/plain": [
       "60"
      ]
     },
     "execution_count": 16,
     "metadata": {},
     "output_type": "execute_result"
    }
   ],
   "source": [
    "# Define the objective function to minimize\n",
    "\n",
    "def obj_function(X):\n",
    "    sum_1 = 0\n",
    "    sum_2 = 0\n",
    "    for i in range(len(X)):\n",
    "        x_sqr = X[i]**2\n",
    "        sum_1 += x_sqr\n",
    "    \n",
    "    for j in range(len(X)):\n",
    "        for k in range(len(X)):\n",
    "            if j < k:\n",
    "                #print(X[j])\n",
    "                sum_2 += (X[k]*X[j])\n",
    "            else:\n",
    "                pass\n",
    "        \n",
    "    return sum_1+sum_2\n",
    "\n",
    "obj_function(x)"
   ]
  },
  {
   "cell_type": "code",
   "execution_count": 36,
   "metadata": {},
   "outputs": [
    {
     "name": "stdout",
     "output_type": "stream",
     "text": [
      "Iteration (loss=0):  6\n"
     ]
    }
   ],
   "source": [
    "def differentiation(X):\n",
    "    d0 = 2*X[0]+X[1]+X[2]+X[3]+X[4]\n",
    "    d1 = X[0]+2*X[1]+X[2]+X[3]+X[4]\n",
    "    d2 = X[0]+X[1]+2*X[2]+X[3]+X[4]\n",
    "    d3 = X[0]+X[1]+X[2]+2*X[3]+X[4]\n",
    "    d4 = X[0]+X[1]+X[2]+X[3]+2*X[4]\n",
    "\n",
    "    output = np.array([d0,d1,d2,d3,d4])\n",
    "    return output\n",
    "\n",
    "def gradient_d(step_size,X):\n",
    "    return X - step_size*differentiation(X)\n",
    "\n",
    "# Define the starting point X\n",
    "X = np.array([2,2,2,2,2])\n",
    "\n",
    "for t in range(1,100):\n",
    "    # Let's the learning rate to be defined as 1/t \n",
    "    # where t is the current iteration number\n",
    "    step_size = 1/t\n",
    "    X = gradient_d(step_size,X)\n",
    "    loss = obj_function(X)\n",
    "    # Instead of defining a certain number of iterations, \n",
    "    # let the value of the cost function decide when to \n",
    "    # stop iterating\n",
    "    if loss <= 0.1:  \n",
    "        print(\"Iteration (loss=0): \",t)\n",
    "        break"
   ]
  },
  {
   "cell_type": "markdown",
   "metadata": {},
   "source": [
    "### Problem 4: Binary Classification with Pytorch"
   ]
  },
  {
   "cell_type": "code",
   "execution_count": 39,
   "metadata": {},
   "outputs": [],
   "source": [
    "# import packages \n",
    "import pandas as pd \n",
    "import numpy as np\n",
    "import matplotlib.pyplot as plt\n",
    "from sklearn.model_selection import train_test_split\n",
    "\n",
    "# Torch packages\n",
    "import torch\n",
    "from torch.autograd import Variable\n",
    "from torch import Tensor\n",
    "from torch.utils.data import DataLoader, TensorDataset\n",
    "from torch.autograd import Variable"
   ]
  },
  {
   "cell_type": "code",
   "execution_count": 40,
   "metadata": {},
   "outputs": [],
   "source": [
    "# Let's define a class to compute logistic regression\n",
    "\n",
    "class LogisticRegression(torch.nn.Module):\n",
    "    \n",
    "    def __init__(self):\n",
    "        super(LogisticRegression, self).__init__()\n",
    "        self.linear = torch.nn.Linear(in_features=input_dim,out_features=output_dim)\n",
    "    \n",
    "    def forward(self, x):\n",
    "        y_pred = torch.sigmoid(self.linear(x))\n",
    "        return y_pred\n",
    "    pass\n",
    "\n",
    "class other(torch.nn.Module):\n",
    "    \n",
    "    def __init__(self):\n",
    "        super(other, self).__init__()\n",
    "        self.fc1 = torch.nn.Linear(input_dim,32)\n",
    "        self.fc2 = torch.nn.Linear(32,16)\n",
    "        self.fc3 = torch.nn.Linear(16,1)\n",
    "        pass\n",
    "    \n",
    "    def forward(self, x):\n",
    "        x = self.fc1(x)\n",
    "        x = self.fc2(x)\n",
    "        x = self.fc3(x)\n",
    "        return torch.sigmoid(x)\n",
    "    pass"
   ]
  },
  {
   "cell_type": "code",
   "execution_count": 70,
   "metadata": {},
   "outputs": [],
   "source": [
    "# Let's define a function that takes all the necessary inputs to \n",
    "# train and test the model and compute its losses\n",
    "\n",
    "def model_losses_plot(X_train,y_train,X_test,y_test,model_,criterion_,optimizer_):\n",
    "    train_loss = []\n",
    "    test_loss = []\n",
    "    \n",
    "    for epoch in range(100):\n",
    "        model_.train()\n",
    "        optimizer_.zero_grad()\n",
    "        y_pred = model_(X_train)\n",
    "        loss = criterion_(y_pred, y_train)\n",
    "        loss.backward()\n",
    "        optimizer_.step()\n",
    "\n",
    "        train_loss.append(float(loss))\n",
    "        test_loss.append(float(criterion_(model_(X_test), y_test)))\n",
    "        pass\n",
    "    \n",
    "    plt.plot(train_loss,label='Training loss',c=\"purple\")\n",
    "    plt.plot(test_loss,label='Testing loss')\n",
    "    plt.legend(); plt.xlabel('Epoch'); plt.ylabel('Cross entropy')\n",
    "    plt.title('Training/test losses')\n",
    "    plt.show()\n",
    "    pass"
   ]
  },
  {
   "cell_type": "code",
   "execution_count": 71,
   "metadata": {},
   "outputs": [],
   "source": [
    "\"\"\" data preparation \"\"\"\n",
    "\n",
    "# read csv file \n",
    "df = pd.read_csv('breast_cancer.csv')\n",
    "\n",
    "# extract the 'diagnosis' column as your targets \n",
    "# and convert the entries of targets to 0/1 \n",
    "targets = pd.get_dummies(df.diagnosis).M\n",
    "\n",
    "# extract your features data\n",
    "data = df[[ 'radius_mean', 'texture_mean', 'smoothness_mean',\n",
    "       'compactness_mean', 'symmetry_mean', 'fractal_dimension_mean',\n",
    "       'radius_se', 'texture_se', 'smoothness_se', 'compactness_se',\n",
    "            'symmetry_se', 'fractal_dimension_se']]\n",
    "\n",
    "# train/test split \n",
    "X_train, X_test, y_train, y_test = train_test_split(data, targets, test_size=0.3, random_state=53)\n",
    "X_train= Variable(Tensor(np.array(X_train)))\n",
    "y_train = Variable(Tensor(np.array(y_train)))\n",
    "X_test= Variable(Tensor(np.array(X_test)))\n",
    "y_test = Variable(Tensor(np.array(y_test)))\n",
    "\n",
    "input_dim = X_train.size()[1]\n",
    "output_dim = 1"
   ]
  },
  {
   "cell_type": "code",
   "execution_count": 72,
   "metadata": {},
   "outputs": [
    {
     "name": "stdout",
     "output_type": "stream",
     "text": [
      "Model 1 (logistic reg.):\n"
     ]
    },
    {
     "data": {
      "image/png": "[encoded data removed]",
      "text/plain": [
       "<Figure size 432x288 with 1 Axes>"
      ]
     },
     "metadata": {},
     "output_type": "display_data"
    }
   ],
   "source": [
    "# Now, let's use the functions defined above and train the model\n",
    "\n",
    "torch.manual_seed(530)\n",
    "model1 = LogisticRegression()\n",
    "criterion1 = torch.nn.BCELoss()\n",
    "optimizer1 = torch.optim.SGD(model1.parameters(), lr=0.001)\n",
    "\n",
    "print('Model 1 (logistic reg.):')\n",
    "model_losses_plot(X_train,y_train,X_test,y_test,model1,criterion1,optimizer1)"
   ]
  },
  {
   "cell_type": "code",
   "execution_count": 73,
   "metadata": {},
   "outputs": [
    {
     "name": "stdout",
     "output_type": "stream",
     "text": [
      "Model 2:\n"
     ]
    },
    {
     "data": {
      "image/png": "[encoded data removed]",
      "text/plain": [
       "<Figure size 432x288 with 1 Axes>"
      ]
     },
     "metadata": {},
     "output_type": "display_data"
    }
   ],
   "source": [
    "torch.manual_seed(530)\n",
    "model2 = other()\n",
    "criterion2 = torch.nn.BCELoss()\n",
    "optimizer2 = torch.optim.SGD(model2.parameters(), lr=0.001)\n",
    "\n",
    "print('Model 2:')\n",
    "model_losses_plot(X_train,y_train,X_test,y_test,model2,criterion2,optimizer2)"
   ]
  },
  {
   "cell_type": "markdown",
   "metadata": {},
   "source": [
    "### Problem 5 (Implementing a Two-Layer Neural Network)"
   ]
  },
  {
   "cell_type": "code",
   "execution_count": null,
   "metadata": {},
   "outputs": [],
   "source": [
    "# Put your code here "
   ]
  }
 ],
 "metadata": {
  "kernelspec": {
   "display_name": "Python 3",
   "language": "python",
   "name": "python3"
  },
  "language_info": {
   "codemirror_mode": {
    "name": "ipython",
    "version": 3
   },
   "file_extension": ".py",
   "mimetype": "text/x-python",
   "name": "python",
   "nbconvert_exporter": "python",
   "pygments_lexer": "ipython3",
   "version": "3.6.4"
  }
 },
 "nbformat": 4,
 "nbformat_minor": 4
}
